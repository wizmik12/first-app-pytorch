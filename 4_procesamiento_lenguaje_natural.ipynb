{
 "cells": [
  {
   "cell_type": "markdown",
   "id": "14363ad0",
   "metadata": {},
   "source": [
    "# NLP"
   ]
  },
  {
   "cell_type": "markdown",
   "id": "681d6612",
   "metadata": {},
   "source": [
    "## Datos: Poemas"
   ]
  },
  {
   "cell_type": "code",
   "execution_count": 2,
   "id": "762c54dc",
   "metadata": {},
   "outputs": [],
   "source": [
    "import pandas as pd"
   ]
  },
  {
   "cell_type": "code",
   "execution_count": 4,
   "id": "eea6e219",
   "metadata": {},
   "outputs": [],
   "source": [
    "poems_df = pd.read_csv(\"https://raw.githubusercontent.com/andreamorgar/poesIA/master/data/poems.csv\")"
   ]
  },
  {
   "cell_type": "code",
   "execution_count": 5,
   "id": "bc370be8",
   "metadata": {},
   "outputs": [
    {
     "data": {
      "text/html": [
       "<div>\n",
       "<style scoped>\n",
       "    .dataframe tbody tr th:only-of-type {\n",
       "        vertical-align: middle;\n",
       "    }\n",
       "\n",
       "    .dataframe tbody tr th {\n",
       "        vertical-align: top;\n",
       "    }\n",
       "\n",
       "    .dataframe thead th {\n",
       "        text-align: right;\n",
       "    }\n",
       "</style>\n",
       "<table border=\"1\" class=\"dataframe\">\n",
       "  <thead>\n",
       "    <tr style=\"text-align: right;\">\n",
       "      <th></th>\n",
       "      <th>author</th>\n",
       "      <th>content</th>\n",
       "      <th>title</th>\n",
       "    </tr>\n",
       "  </thead>\n",
       "  <tbody>\n",
       "    <tr>\n",
       "      <th>0</th>\n",
       "      <td>Leopoldo Lugones</td>\n",
       "      <td>\\n\\nEn el parque confuso\\nQue con lánguidas br...</td>\n",
       "      <td>LA MUERTE DE LA LUNA</td>\n",
       "    </tr>\n",
       "    <tr>\n",
       "      <th>1</th>\n",
       "      <td>Marilina Rébora</td>\n",
       "      <td>\\n\\nPorque si tú no velas, vendré como ladrón;...</td>\n",
       "      <td>PORQUE SI TÚ NO VELAS</td>\n",
       "    </tr>\n",
       "    <tr>\n",
       "      <th>2</th>\n",
       "      <td>Antonio Colinas</td>\n",
       "      <td>\\n\\nPequeña de mis sueños, por tu piel las pal...</td>\n",
       "      <td>POEMA DE LA BELLEZA CAUTIVA QUE PERDÍ</td>\n",
       "    </tr>\n",
       "    <tr>\n",
       "      <th>3</th>\n",
       "      <td>José María Hinojosa</td>\n",
       "      <td>\\n\\nLos dedos de la nieve\\nrepiquetearon\\nen e...</td>\n",
       "      <td>SENCILLEZ</td>\n",
       "    </tr>\n",
       "    <tr>\n",
       "      <th>4</th>\n",
       "      <td>Rubén Izaguirre Fiallos</td>\n",
       "      <td>Naciste en Armenia,\\npero te fuiste a vivir al...</td>\n",
       "      <td>Breve Carta a Consuelo Suncín</td>\n",
       "    </tr>\n",
       "    <tr>\n",
       "      <th>...</th>\n",
       "      <td>...</td>\n",
       "      <td>...</td>\n",
       "      <td>...</td>\n",
       "    </tr>\n",
       "    <tr>\n",
       "      <th>5128</th>\n",
       "      <td>Rubén Darío</td>\n",
       "      <td>\\n¿Vienes? Me llega aquí, pues que suspiras, \\...</td>\n",
       "      <td>Divagación</td>\n",
       "    </tr>\n",
       "    <tr>\n",
       "      <th>5129</th>\n",
       "      <td>David Escobar Galindo</td>\n",
       "      <td>\\n\\nNada es memoria: todo es invención.\\nLo qu...</td>\n",
       "      <td>Nada es memoria</td>\n",
       "    </tr>\n",
       "    <tr>\n",
       "      <th>5130</th>\n",
       "      <td>amistad</td>\n",
       "      <td>\\nFelicidad: Muy dentro de tí.\\nSerenidad: En ...</td>\n",
       "      <td>Esto es todo lo que deseo para tí</td>\n",
       "    </tr>\n",
       "    <tr>\n",
       "      <th>5131</th>\n",
       "      <td>Octavio Paz</td>\n",
       "      <td>\\nMis manos \\nabren las cortinas de tu ser \\nt...</td>\n",
       "      <td>Palpar</td>\n",
       "    </tr>\n",
       "    <tr>\n",
       "      <th>5132</th>\n",
       "      <td>José Ángel Valente</td>\n",
       "      <td>\\n\\nY ahora danos\\nuna muerte honorable,\\nviej...</td>\n",
       "      <td>EXORDIO</td>\n",
       "    </tr>\n",
       "  </tbody>\n",
       "</table>\n",
       "<p>5133 rows × 3 columns</p>\n",
       "</div>"
      ],
      "text/plain": [
       "                       author  \\\n",
       "0            Leopoldo Lugones   \n",
       "1             Marilina Rébora   \n",
       "2             Antonio Colinas   \n",
       "3         José María Hinojosa   \n",
       "4     Rubén Izaguirre Fiallos   \n",
       "...                       ...   \n",
       "5128              Rubén Darío   \n",
       "5129    David Escobar Galindo   \n",
       "5130                  amistad   \n",
       "5131              Octavio Paz   \n",
       "5132       José Ángel Valente   \n",
       "\n",
       "                                                content  \\\n",
       "0     \\n\\nEn el parque confuso\\nQue con lánguidas br...   \n",
       "1     \\n\\nPorque si tú no velas, vendré como ladrón;...   \n",
       "2     \\n\\nPequeña de mis sueños, por tu piel las pal...   \n",
       "3     \\n\\nLos dedos de la nieve\\nrepiquetearon\\nen e...   \n",
       "4     Naciste en Armenia,\\npero te fuiste a vivir al...   \n",
       "...                                                 ...   \n",
       "5128  \\n¿Vienes? Me llega aquí, pues que suspiras, \\...   \n",
       "5129  \\n\\nNada es memoria: todo es invención.\\nLo qu...   \n",
       "5130  \\nFelicidad: Muy dentro de tí.\\nSerenidad: En ...   \n",
       "5131  \\nMis manos \\nabren las cortinas de tu ser \\nt...   \n",
       "5132  \\n\\nY ahora danos\\nuna muerte honorable,\\nviej...   \n",
       "\n",
       "                                      title  \n",
       "0                      LA MUERTE DE LA LUNA  \n",
       "1                     PORQUE SI TÚ NO VELAS  \n",
       "2     POEMA DE LA BELLEZA CAUTIVA QUE PERDÍ  \n",
       "3                                 SENCILLEZ  \n",
       "4             Breve Carta a Consuelo Suncín  \n",
       "...                                     ...  \n",
       "5128                             Divagación  \n",
       "5129                        Nada es memoria  \n",
       "5130      Esto es todo lo que deseo para tí  \n",
       "5131                                 Palpar  \n",
       "5132                                EXORDIO  \n",
       "\n",
       "[5133 rows x 3 columns]"
      ]
     },
     "execution_count": 5,
     "metadata": {},
     "output_type": "execute_result"
    }
   ],
   "source": [
    "poems_df = poems_df.dropna()"
   ]
  },
  {
   "cell_type": "markdown",
   "id": "e66cbbf1",
   "metadata": {},
   "source": [
    "## Capas recurrentes"
   ]
  },
  {
   "cell_type": "markdown",
   "id": "88f27a24",
   "metadata": {},
   "source": [
    "## Modelo de generación de texto"
   ]
  },
  {
   "cell_type": "markdown",
   "id": "6b0837db",
   "metadata": {},
   "source": [
    "## Modelo preentrenado: Transformers!"
   ]
  },
  {
   "cell_type": "code",
   "execution_count": null,
   "id": "507ec216",
   "metadata": {},
   "outputs": [],
   "source": []
  }
 ],
 "metadata": {
  "kernelspec": {
   "display_name": "Python 3 (ipykernel)",
   "language": "python",
   "name": "python3"
  },
  "language_info": {
   "codemirror_mode": {
    "name": "ipython",
    "version": 3
   },
   "file_extension": ".py",
   "mimetype": "text/x-python",
   "name": "python",
   "nbconvert_exporter": "python",
   "pygments_lexer": "ipython3",
   "version": "3.7.13"
  }
 },
 "nbformat": 4,
 "nbformat_minor": 5
}
