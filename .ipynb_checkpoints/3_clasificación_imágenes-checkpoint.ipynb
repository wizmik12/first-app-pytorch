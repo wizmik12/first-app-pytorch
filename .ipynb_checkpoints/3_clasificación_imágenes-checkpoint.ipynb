{
 "cells": [
  {
   "cell_type": "markdown",
   "id": "4d37c9c2",
   "metadata": {},
   "source": [
    "# Clasificación de imágenes con Redes Neuronales"
   ]
  },
  {
   "cell_type": "markdown",
   "id": "ac166ed4",
   "metadata": {},
   "source": [
    "## Descargamos el popular CIFAR10!"
   ]
  },
  {
   "cell_type": "code",
   "execution_count": 2,
   "id": "308694b7",
   "metadata": {},
   "outputs": [
    {
     "name": "stdout",
     "output_type": "stream",
     "text": [
      "Downloading https://www.cs.toronto.edu/~kriz/cifar-10-python.tar.gz to ../CIFAR10/cifar-10-python.tar.gz\n"
     ]
    },
    {
     "name": "stderr",
     "output_type": "stream",
     "text": [
      "100.0%\n"
     ]
    },
    {
     "name": "stdout",
     "output_type": "stream",
     "text": [
      "Extracting ../CIFAR10/cifar-10-python.tar.gz to ../CIFAR10/\n",
      "Files already downloaded and verified\n"
     ]
    }
   ],
   "source": [
    "import torch\n",
    "torch.manual_seed(123)\n",
    "\n",
    "from torchvision import datasets\n",
    "cifar10 = datasets.CIFAR10('../CIFAR10/', train=True, download=True) # <1>\n",
    "cifar10_val = datasets.CIFAR10('../CIFAR10/', train=False, download=True) "
   ]
  },
  {
   "cell_type": "code",
   "execution_count": null,
   "id": "38cf54af",
   "metadata": {},
   "outputs": [],
   "source": []
  }
 ],
 "metadata": {
  "kernelspec": {
   "display_name": "Python 3 (ipykernel)",
   "language": "python",
   "name": "python3"
  },
  "language_info": {
   "codemirror_mode": {
    "name": "ipython",
    "version": 3
   },
   "file_extension": ".py",
   "mimetype": "text/x-python",
   "name": "python",
   "nbconvert_exporter": "python",
   "pygments_lexer": "ipython3",
   "version": "3.7.13"
  }
 },
 "nbformat": 4,
 "nbformat_minor": 5
}
