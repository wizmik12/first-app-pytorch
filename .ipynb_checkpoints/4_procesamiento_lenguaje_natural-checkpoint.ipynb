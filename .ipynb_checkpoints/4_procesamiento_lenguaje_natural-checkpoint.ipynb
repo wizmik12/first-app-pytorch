{
 "cells": [
  {
   "cell_type": "markdown",
   "id": "4e001bfb",
   "metadata": {},
   "source": [
    "# NLP"
   ]
  },
  {
   "cell_type": "markdown",
   "id": "1c5797a6",
   "metadata": {},
   "source": [
    "## Datos: Poemas"
   ]
  },
  {
   "cell_type": "code",
   "execution_count": 2,
   "id": "40708e99",
   "metadata": {},
   "outputs": [],
   "source": [
    "import pandas as pd"
   ]
  },
  {
   "cell_type": "code",
   "execution_count": 13,
   "id": "769443e9",
   "metadata": {},
   "outputs": [
    {
     "data": {
      "text/plain": [
       "(5133, 3)"
      ]
     },
     "execution_count": 13,
     "metadata": {},
     "output_type": "execute_result"
    }
   ],
   "source": [
    "poems_df = pd.read_csv(\"https://raw.githubusercontent.com/andreamorgar/poesIA/master/data/poems.csv\")\n",
    "poems_df.shape"
   ]
  },
  {
   "cell_type": "code",
   "execution_count": 14,
   "id": "8ead21dc",
   "metadata": {},
   "outputs": [
    {
     "data": {
      "text/html": [
       "<div>\n",
       "<style scoped>\n",
       "    .dataframe tbody tr th:only-of-type {\n",
       "        vertical-align: middle;\n",
       "    }\n",
       "\n",
       "    .dataframe tbody tr th {\n",
       "        vertical-align: top;\n",
       "    }\n",
       "\n",
       "    .dataframe thead th {\n",
       "        text-align: right;\n",
       "    }\n",
       "</style>\n",
       "<table border=\"1\" class=\"dataframe\">\n",
       "  <thead>\n",
       "    <tr style=\"text-align: right;\">\n",
       "      <th></th>\n",
       "      <th>author</th>\n",
       "      <th>content</th>\n",
       "      <th>title</th>\n",
       "    </tr>\n",
       "  </thead>\n",
       "  <tbody>\n",
       "    <tr>\n",
       "      <th>0</th>\n",
       "      <td>Leopoldo Lugones</td>\n",
       "      <td>\\n\\nEn el parque confuso\\nQue con lánguidas br...</td>\n",
       "      <td>LA MUERTE DE LA LUNA</td>\n",
       "    </tr>\n",
       "    <tr>\n",
       "      <th>1</th>\n",
       "      <td>Marilina Rébora</td>\n",
       "      <td>\\n\\nPorque si tú no velas, vendré como ladrón;...</td>\n",
       "      <td>PORQUE SI TÚ NO VELAS</td>\n",
       "    </tr>\n",
       "    <tr>\n",
       "      <th>2</th>\n",
       "      <td>Antonio Colinas</td>\n",
       "      <td>\\n\\nPequeña de mis sueños, por tu piel las pal...</td>\n",
       "      <td>POEMA DE LA BELLEZA CAUTIVA QUE PERDÍ</td>\n",
       "    </tr>\n",
       "    <tr>\n",
       "      <th>3</th>\n",
       "      <td>José María Hinojosa</td>\n",
       "      <td>\\n\\nLos dedos de la nieve\\nrepiquetearon\\nen e...</td>\n",
       "      <td>SENCILLEZ</td>\n",
       "    </tr>\n",
       "    <tr>\n",
       "      <th>4</th>\n",
       "      <td>Rubén Izaguirre Fiallos</td>\n",
       "      <td>Naciste en Armenia,\\npero te fuiste a vivir al...</td>\n",
       "      <td>Breve Carta a Consuelo Suncín</td>\n",
       "    </tr>\n",
       "  </tbody>\n",
       "</table>\n",
       "</div>"
      ],
      "text/plain": [
       "                    author                                            content  \\\n",
       "0         Leopoldo Lugones  \\n\\nEn el parque confuso\\nQue con lánguidas br...   \n",
       "1          Marilina Rébora  \\n\\nPorque si tú no velas, vendré como ladrón;...   \n",
       "2          Antonio Colinas  \\n\\nPequeña de mis sueños, por tu piel las pal...   \n",
       "3      José María Hinojosa  \\n\\nLos dedos de la nieve\\nrepiquetearon\\nen e...   \n",
       "4  Rubén Izaguirre Fiallos  Naciste en Armenia,\\npero te fuiste a vivir al...   \n",
       "\n",
       "                                   title  \n",
       "0                   LA MUERTE DE LA LUNA  \n",
       "1                  PORQUE SI TÚ NO VELAS  \n",
       "2  POEMA DE LA BELLEZA CAUTIVA QUE PERDÍ  \n",
       "3                              SENCILLEZ  \n",
       "4          Breve Carta a Consuelo Suncín  "
      ]
     },
     "execution_count": 14,
     "metadata": {},
     "output_type": "execute_result"
    }
   ],
   "source": [
    "poems_df.head()"
   ]
  },
  {
   "cell_type": "code",
   "execution_count": 15,
   "id": "f85edd58",
   "metadata": {},
   "outputs": [
    {
     "name": "stdout",
     "output_type": "stream",
     "text": [
      "Hay  3688  poemas después de filtrar por longitud       (considerando una longitud menor de  1000 )\n"
     ]
    }
   ],
   "source": [
    "poems_df = poems_df.dropna()\n",
    "\n",
    "def poem_to_string(poem):\n",
    "    return f'\\n{poem[\"title\"]}\\n{poem[\"author\"]}\\n{poem[\"content\"]}'\n",
    "\n",
    "# Filtramos poemas grandes\n",
    "poems_df['string'] = poems_df.apply(lambda row: f'\\n{row[\"title\"]}\\n\\n{row[\"author\"]}\\n\\n{row[\"content\"]}', axis=1)\n",
    "poems_df['length'] = poems_df.string.map(len)\n",
    "\n",
    "# Consideramos poemas de longitud máxima 1000\n",
    "MAX_POEM_LENGTH=1000\n",
    "poems_filtered = poems_df[poems_df.length<MAX_POEM_LENGTH]\n",
    "\n",
    "print('Hay ', len(poems_filtered), ' poemas después de filtrar por longitud \\\n",
    "      (considerando una longitud menor de ', MAX_POEM_LENGTH, ')')"
   ]
  },
  {
   "cell_type": "code",
   "execution_count": 18,
   "id": "3c0aa639",
   "metadata": {},
   "outputs": [
    {
     "data": {
      "text/plain": [
       "1       \\nPORQUE SI TÚ NO VELAS\\n\\nMarilina Rébora\\n\\n...\n",
       "2       \\nPOEMA DE LA BELLEZA CAUTIVA QUE PERDÍ\\n\\nAnt...\n",
       "3       \\nSENCILLEZ\\n\\nJosé María Hinojosa\\n\\n\\n\\nLos ...\n",
       "4       \\nBreve Carta a Consuelo Suncín\\n\\nRubén Izagu...\n",
       "5       \\nPASADIZO SECRETO\\n\\nLeopoldo María Panero\\n\\...\n",
       "                              ...                        \n",
       "5127    \\nBOSQUE\\n\\nÁngel González\\n\\n\\n\\nCruzas por e...\n",
       "5129    \\nNada es memoria\\n\\nDavid Escobar Galindo\\n\\n...\n",
       "5130    \\nEsto es todo lo que deseo para tí\\n\\namistad...\n",
       "5131    \\nPalpar\\n\\nOctavio Paz\\n\\n\\nMis manos \\nabren...\n",
       "5132    \\nEXORDIO\\n\\nJosé Ángel Valente\\n\\n\\n\\nY ahora...\n",
       "Name: string, Length: 3688, dtype: object"
      ]
     },
     "execution_count": 18,
     "metadata": {},
     "output_type": "execute_result"
    }
   ],
   "source": [
    "poems_string = poems_filtered.string\n",
    "poems_string"
   ]
  },
  {
   "cell_type": "markdown",
   "id": "51c5745f",
   "metadata": {},
   "source": [
    "## Capas recurrentes"
   ]
  },
  {
   "cell_type": "markdown",
   "id": "ab0cfd41",
   "metadata": {},
   "source": [
    "## Modelo de generación de texto"
   ]
  },
  {
   "cell_type": "markdown",
   "id": "f45925a2",
   "metadata": {},
   "source": [
    "## Modelo preentrenado: Transformers!"
   ]
  },
  {
   "cell_type": "code",
   "execution_count": null,
   "id": "271743fc",
   "metadata": {},
   "outputs": [],
   "source": []
  }
 ],
 "metadata": {
  "kernelspec": {
   "display_name": "Python 3 (ipykernel)",
   "language": "python",
   "name": "python3"
  },
  "language_info": {
   "codemirror_mode": {
    "name": "ipython",
    "version": 3
   },
   "file_extension": ".py",
   "mimetype": "text/x-python",
   "name": "python",
   "nbconvert_exporter": "python",
   "pygments_lexer": "ipython3",
   "version": "3.7.13"
  }
 },
 "nbformat": 4,
 "nbformat_minor": 5
}
