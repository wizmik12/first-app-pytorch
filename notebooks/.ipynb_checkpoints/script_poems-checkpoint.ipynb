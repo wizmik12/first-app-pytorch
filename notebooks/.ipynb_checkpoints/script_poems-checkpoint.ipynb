{
 "cells": [
  {
   "cell_type": "code",
   "execution_count": 1,
   "metadata": {},
   "outputs": [],
   "source": [
    "import torch\n",
    "import torchtext\n",
    "from torchinfo import summary\n",
    "from torchnlp import *\n",
    "from collections import Counter"
   ]
  },
  {
   "cell_type": "code",
   "execution_count": 2,
   "metadata": {},
   "outputs": [
    {
     "data": {
      "text/html": [
       "<div>\n",
       "<style scoped>\n",
       "    .dataframe tbody tr th:only-of-type {\n",
       "        vertical-align: middle;\n",
       "    }\n",
       "\n",
       "    .dataframe tbody tr th {\n",
       "        vertical-align: top;\n",
       "    }\n",
       "\n",
       "    .dataframe thead th {\n",
       "        text-align: right;\n",
       "    }\n",
       "</style>\n",
       "<table border=\"1\" class=\"dataframe\">\n",
       "  <thead>\n",
       "    <tr style=\"text-align: right;\">\n",
       "      <th></th>\n",
       "      <th>author</th>\n",
       "      <th>content</th>\n",
       "      <th>title</th>\n",
       "    </tr>\n",
       "  </thead>\n",
       "  <tbody>\n",
       "    <tr>\n",
       "      <th>0</th>\n",
       "      <td>Leopoldo Lugones</td>\n",
       "      <td>\\n\\nEn el parque confuso\\nQue con lánguidas br...</td>\n",
       "      <td>LA MUERTE DE LA LUNA</td>\n",
       "    </tr>\n",
       "    <tr>\n",
       "      <th>1</th>\n",
       "      <td>Marilina Rébora</td>\n",
       "      <td>\\n\\nPorque si tú no velas, vendré como ladrón;...</td>\n",
       "      <td>PORQUE SI TÚ NO VELAS</td>\n",
       "    </tr>\n",
       "    <tr>\n",
       "      <th>2</th>\n",
       "      <td>Antonio Colinas</td>\n",
       "      <td>\\n\\nPequeña de mis sueños, por tu piel las pal...</td>\n",
       "      <td>POEMA DE LA BELLEZA CAUTIVA QUE PERDÍ</td>\n",
       "    </tr>\n",
       "    <tr>\n",
       "      <th>3</th>\n",
       "      <td>José María Hinojosa</td>\n",
       "      <td>\\n\\nLos dedos de la nieve\\nrepiquetearon\\nen e...</td>\n",
       "      <td>SENCILLEZ</td>\n",
       "    </tr>\n",
       "    <tr>\n",
       "      <th>4</th>\n",
       "      <td>Rubén Izaguirre Fiallos</td>\n",
       "      <td>Naciste en Armenia,\\npero te fuiste a vivir al...</td>\n",
       "      <td>Breve Carta a Consuelo Suncín</td>\n",
       "    </tr>\n",
       "  </tbody>\n",
       "</table>\n",
       "</div>"
      ],
      "text/plain": [
       "                    author                                            content  \\\n",
       "0         Leopoldo Lugones  \\n\\nEn el parque confuso\\nQue con lánguidas br...   \n",
       "1          Marilina Rébora  \\n\\nPorque si tú no velas, vendré como ladrón;...   \n",
       "2          Antonio Colinas  \\n\\nPequeña de mis sueños, por tu piel las pal...   \n",
       "3      José María Hinojosa  \\n\\nLos dedos de la nieve\\nrepiquetearon\\nen e...   \n",
       "4  Rubén Izaguirre Fiallos  Naciste en Armenia,\\npero te fuiste a vivir al...   \n",
       "\n",
       "                                   title  \n",
       "0                   LA MUERTE DE LA LUNA  \n",
       "1                  PORQUE SI TÚ NO VELAS  \n",
       "2  POEMA DE LA BELLEZA CAUTIVA QUE PERDÍ  \n",
       "3                              SENCILLEZ  \n",
       "4          Breve Carta a Consuelo Suncín  "
      ]
     },
     "execution_count": 2,
     "metadata": {},
     "output_type": "execute_result"
    }
   ],
   "source": [
    "import pandas as pd\n",
    "df = pd.read_csv(\"../data/poems.csv\")\n",
    "dict_poems = df.to_dict('records')\n",
    "df.head()"
   ]
  },
  {
   "cell_type": "code",
   "execution_count": 3,
   "metadata": {},
   "outputs": [
    {
     "data": {
      "text/plain": [
       "Pablo Neruda             357\n",
       "Luis de Góngora          218\n",
       "Mario Benedetti          167\n",
       "Federico García Lorca    134\n",
       "Ramón López Velarde      126\n",
       "Name: author, dtype: int64"
      ]
     },
     "execution_count": 3,
     "metadata": {},
     "output_type": "execute_result"
    }
   ],
   "source": [
    "df['author'].value_counts()[:5]"
   ]
  },
  {
   "cell_type": "code",
   "execution_count": 4,
   "metadata": {},
   "outputs": [
    {
     "data": {
      "text/html": [
       "<div>\n",
       "<style scoped>\n",
       "    .dataframe tbody tr th:only-of-type {\n",
       "        vertical-align: middle;\n",
       "    }\n",
       "\n",
       "    .dataframe tbody tr th {\n",
       "        vertical-align: top;\n",
       "    }\n",
       "\n",
       "    .dataframe thead th {\n",
       "        text-align: right;\n",
       "    }\n",
       "</style>\n",
       "<table border=\"1\" class=\"dataframe\">\n",
       "  <thead>\n",
       "    <tr style=\"text-align: right;\">\n",
       "      <th></th>\n",
       "      <th>author</th>\n",
       "      <th>content</th>\n",
       "      <th>title</th>\n",
       "    </tr>\n",
       "  </thead>\n",
       "  <tbody>\n",
       "    <tr>\n",
       "      <th>7</th>\n",
       "      <td>Pablo Neruda</td>\n",
       "      <td>Cien sonetos de amor\\n\\nTrajo el amor su cola ...</td>\n",
       "      <td>Cien sonetos de amor</td>\n",
       "    </tr>\n",
       "    <tr>\n",
       "      <th>10</th>\n",
       "      <td>Luis de Góngora</td>\n",
       "      <td>\\n\\nSalí, señor don Pedro, esta mañana\\nA ver ...</td>\n",
       "      <td>A DON PEDRO DE CÁRDENAS</td>\n",
       "    </tr>\n",
       "    <tr>\n",
       "      <th>20</th>\n",
       "      <td>Pablo Neruda</td>\n",
       "      <td>EN el mar\\ntormentoso\\nde Chile\\nvive el rosad...</td>\n",
       "      <td>Oda al caldillo de congrio</td>\n",
       "    </tr>\n",
       "    <tr>\n",
       "      <th>21</th>\n",
       "      <td>Federico García Lorca</td>\n",
       "      <td>\\nCon una cuchara \\narrancaba los ojos a los c...</td>\n",
       "      <td>El rey de Harlem</td>\n",
       "    </tr>\n",
       "    <tr>\n",
       "      <th>29</th>\n",
       "      <td>Luis de Góngora</td>\n",
       "      <td>\\n\\nFrescos airecillos,\\nQue a la Primavera\\nL...</td>\n",
       "      <td>Frescos airecillos</td>\n",
       "    </tr>\n",
       "  </tbody>\n",
       "</table>\n",
       "</div>"
      ],
      "text/plain": [
       "                   author                                            content  \\\n",
       "7            Pablo Neruda  Cien sonetos de amor\\n\\nTrajo el amor su cola ...   \n",
       "10        Luis de Góngora  \\n\\nSalí, señor don Pedro, esta mañana\\nA ver ...   \n",
       "20           Pablo Neruda  EN el mar\\ntormentoso\\nde Chile\\nvive el rosad...   \n",
       "21  Federico García Lorca  \\nCon una cuchara \\narrancaba los ojos a los c...   \n",
       "29        Luis de Góngora  \\n\\nFrescos airecillos,\\nQue a la Primavera\\nL...   \n",
       "\n",
       "                         title  \n",
       "7         Cien sonetos de amor  \n",
       "10     A DON PEDRO DE CÁRDENAS  \n",
       "20  Oda al caldillo de congrio  \n",
       "21            El rey de Harlem  \n",
       "29          Frescos airecillos  "
      ]
     },
     "execution_count": 4,
     "metadata": {},
     "output_type": "execute_result"
    }
   ],
   "source": [
    "selected_authors = ['Pablo Neruda', 'Federico García Lorca', 'Luis de Góngora']\n",
    "sub_df = df[df['author'].isin(selected_authors)]\n",
    "sub_df.shape\n",
    "sub_df.head()"
   ]
  },
  {
   "cell_type": "code",
   "execution_count": 5,
   "metadata": {},
   "outputs": [
    {
     "name": "stderr",
     "output_type": "stream",
     "text": [
      "/opt/anaconda3/envs/first_pytorch/lib/python3.7/site-packages/ipykernel_launcher.py:1: SettingWithCopyWarning: \n",
      "A value is trying to be set on a copy of a slice from a DataFrame.\n",
      "Try using .loc[row_indexer,col_indexer] = value instead\n",
      "\n",
      "See the caveats in the documentation: https://pandas.pydata.org/pandas-docs/stable/user_guide/indexing.html#returning-a-view-versus-a-copy\n",
      "  \"\"\"Entry point for launching an IPython kernel.\n",
      "/opt/anaconda3/envs/first_pytorch/lib/python3.7/site-packages/ipykernel_launcher.py:2: SettingWithCopyWarning: \n",
      "A value is trying to be set on a copy of a slice from a DataFrame.\n",
      "Try using .loc[row_indexer,col_indexer] = value instead\n",
      "\n",
      "See the caveats in the documentation: https://pandas.pydata.org/pandas-docs/stable/user_guide/indexing.html#returning-a-view-versus-a-copy\n",
      "  \n",
      "/opt/anaconda3/envs/first_pytorch/lib/python3.7/site-packages/ipykernel_launcher.py:3: SettingWithCopyWarning: \n",
      "A value is trying to be set on a copy of a slice from a DataFrame.\n",
      "Try using .loc[row_indexer,col_indexer] = value instead\n",
      "\n",
      "See the caveats in the documentation: https://pandas.pydata.org/pandas-docs/stable/user_guide/indexing.html#returning-a-view-versus-a-copy\n",
      "  This is separate from the ipykernel package so we can avoid doing imports until\n"
     ]
    }
   ],
   "source": [
    "sub_df['author'] = sub_df['author'].replace('Pablo Neruda',0)\n",
    "sub_df['author'] = sub_df['author'].replace('Federico García Lorca',1)\n",
    "sub_df['author'] = sub_df['author'].replace('Luis de Góngora',2)"
   ]
  },
  {
   "cell_type": "code",
   "execution_count": 6,
   "metadata": {},
   "outputs": [
    {
     "data": {
      "text/html": [
       "<div>\n",
       "<style scoped>\n",
       "    .dataframe tbody tr th:only-of-type {\n",
       "        vertical-align: middle;\n",
       "    }\n",
       "\n",
       "    .dataframe tbody tr th {\n",
       "        vertical-align: top;\n",
       "    }\n",
       "\n",
       "    .dataframe thead th {\n",
       "        text-align: right;\n",
       "    }\n",
       "</style>\n",
       "<table border=\"1\" class=\"dataframe\">\n",
       "  <thead>\n",
       "    <tr style=\"text-align: right;\">\n",
       "      <th></th>\n",
       "      <th>author</th>\n",
       "      <th>content</th>\n",
       "      <th>title</th>\n",
       "    </tr>\n",
       "  </thead>\n",
       "  <tbody>\n",
       "    <tr>\n",
       "      <th>7</th>\n",
       "      <td>0</td>\n",
       "      <td>Cien sonetos de amor\\n\\nTrajo el amor su cola ...</td>\n",
       "      <td>Cien sonetos de amor</td>\n",
       "    </tr>\n",
       "    <tr>\n",
       "      <th>10</th>\n",
       "      <td>2</td>\n",
       "      <td>\\n\\nSalí, señor don Pedro, esta mañana\\nA ver ...</td>\n",
       "      <td>A DON PEDRO DE CÁRDENAS</td>\n",
       "    </tr>\n",
       "    <tr>\n",
       "      <th>20</th>\n",
       "      <td>0</td>\n",
       "      <td>EN el mar\\ntormentoso\\nde Chile\\nvive el rosad...</td>\n",
       "      <td>Oda al caldillo de congrio</td>\n",
       "    </tr>\n",
       "    <tr>\n",
       "      <th>21</th>\n",
       "      <td>1</td>\n",
       "      <td>\\nCon una cuchara \\narrancaba los ojos a los c...</td>\n",
       "      <td>El rey de Harlem</td>\n",
       "    </tr>\n",
       "    <tr>\n",
       "      <th>29</th>\n",
       "      <td>2</td>\n",
       "      <td>\\n\\nFrescos airecillos,\\nQue a la Primavera\\nL...</td>\n",
       "      <td>Frescos airecillos</td>\n",
       "    </tr>\n",
       "  </tbody>\n",
       "</table>\n",
       "</div>"
      ],
      "text/plain": [
       "    author                                            content  \\\n",
       "7        0  Cien sonetos de amor\\n\\nTrajo el amor su cola ...   \n",
       "10       2  \\n\\nSalí, señor don Pedro, esta mañana\\nA ver ...   \n",
       "20       0  EN el mar\\ntormentoso\\nde Chile\\nvive el rosad...   \n",
       "21       1  \\nCon una cuchara \\narrancaba los ojos a los c...   \n",
       "29       2  \\n\\nFrescos airecillos,\\nQue a la Primavera\\nL...   \n",
       "\n",
       "                         title  \n",
       "7         Cien sonetos de amor  \n",
       "10     A DON PEDRO DE CÁRDENAS  \n",
       "20  Oda al caldillo de congrio  \n",
       "21            El rey de Harlem  \n",
       "29          Frescos airecillos  "
      ]
     },
     "execution_count": 6,
     "metadata": {},
     "output_type": "execute_result"
    }
   ],
   "source": [
    "sub_df.head()"
   ]
  },
  {
   "cell_type": "code",
   "execution_count": 7,
   "metadata": {},
   "outputs": [
    {
     "name": "stderr",
     "output_type": "stream",
     "text": [
      "/opt/anaconda3/envs/first_pytorch/lib/python3.7/site-packages/ipykernel_launcher.py:1: SettingWithCopyWarning: \n",
      "A value is trying to be set on a copy of a slice from a DataFrame.\n",
      "Try using .loc[row_indexer,col_indexer] = value instead\n",
      "\n",
      "See the caveats in the documentation: https://pandas.pydata.org/pandas-docs/stable/user_guide/indexing.html#returning-a-view-versus-a-copy\n",
      "  \"\"\"Entry point for launching an IPython kernel.\n"
     ]
    }
   ],
   "source": [
    "sub_df['content'] = sub_df['content'].str.replace('\\n', ' \\n ')"
   ]
  },
  {
   "cell_type": "code",
   "execution_count": 8,
   "metadata": {},
   "outputs": [
    {
     "data": {
      "text/html": [
       "<div>\n",
       "<style scoped>\n",
       "    .dataframe tbody tr th:only-of-type {\n",
       "        vertical-align: middle;\n",
       "    }\n",
       "\n",
       "    .dataframe tbody tr th {\n",
       "        vertical-align: top;\n",
       "    }\n",
       "\n",
       "    .dataframe thead th {\n",
       "        text-align: right;\n",
       "    }\n",
       "</style>\n",
       "<table border=\"1\" class=\"dataframe\">\n",
       "  <thead>\n",
       "    <tr style=\"text-align: right;\">\n",
       "      <th></th>\n",
       "      <th>author</th>\n",
       "      <th>content</th>\n",
       "      <th>title</th>\n",
       "    </tr>\n",
       "  </thead>\n",
       "  <tbody>\n",
       "    <tr>\n",
       "      <th>7</th>\n",
       "      <td>0</td>\n",
       "      <td>Cien sonetos de amor \\n  \\n Trajo el amor su c...</td>\n",
       "      <td>Cien sonetos de amor</td>\n",
       "    </tr>\n",
       "    <tr>\n",
       "      <th>10</th>\n",
       "      <td>2</td>\n",
       "      <td>\\n  \\n Salí, señor don Pedro, esta mañana \\n ...</td>\n",
       "      <td>A DON PEDRO DE CÁRDENAS</td>\n",
       "    </tr>\n",
       "    <tr>\n",
       "      <th>20</th>\n",
       "      <td>0</td>\n",
       "      <td>EN el mar \\n tormentoso \\n de Chile \\n vive el...</td>\n",
       "      <td>Oda al caldillo de congrio</td>\n",
       "    </tr>\n",
       "    <tr>\n",
       "      <th>21</th>\n",
       "      <td>1</td>\n",
       "      <td>\\n Con una cuchara  \\n arrancaba los ojos a l...</td>\n",
       "      <td>El rey de Harlem</td>\n",
       "    </tr>\n",
       "    <tr>\n",
       "      <th>29</th>\n",
       "      <td>2</td>\n",
       "      <td>\\n  \\n Frescos airecillos, \\n Que a la Primav...</td>\n",
       "      <td>Frescos airecillos</td>\n",
       "    </tr>\n",
       "  </tbody>\n",
       "</table>\n",
       "</div>"
      ],
      "text/plain": [
       "    author                                            content  \\\n",
       "7        0  Cien sonetos de amor \\n  \\n Trajo el amor su c...   \n",
       "10       2   \\n  \\n Salí, señor don Pedro, esta mañana \\n ...   \n",
       "20       0  EN el mar \\n tormentoso \\n de Chile \\n vive el...   \n",
       "21       1   \\n Con una cuchara  \\n arrancaba los ojos a l...   \n",
       "29       2   \\n  \\n Frescos airecillos, \\n Que a la Primav...   \n",
       "\n",
       "                         title  \n",
       "7         Cien sonetos de amor  \n",
       "10     A DON PEDRO DE CÁRDENAS  \n",
       "20  Oda al caldillo de congrio  \n",
       "21            El rey de Harlem  \n",
       "29          Frescos airecillos  "
      ]
     },
     "execution_count": 8,
     "metadata": {},
     "output_type": "execute_result"
    }
   ],
   "source": [
    "sub_df.head()"
   ]
  },
  {
   "cell_type": "code",
   "execution_count": 9,
   "metadata": {},
   "outputs": [
    {
     "data": {
      "text/plain": [
       "(0,\n",
       " 'Cien sonetos de amor \\n  \\n Trajo el amor su cola de dolores,  \\n su largo rayo estático de espinas  \\n y cerramos los ojos porque nada,  \\n porque ninguna herida nos separe.  \\n No es culpa de tus ojos este llanto:  \\n tus manos no clavaron esta espada:  \\n no buscaron tus pies este camino:  \\n llegó a tu corazón la miel sombría.  \\n Cuando el amor como una inmensa ola  \\n nos estrelló contra la piedra dura,  \\n nos amasó con una sola harina,  \\n cayó el dolor sobre otro dulce rostro  \\n y así en la luz de la estación abierta  \\n se consagró la primavera herida.')"
      ]
     },
     "execution_count": 9,
     "metadata": {},
     "output_type": "execute_result"
    }
   ],
   "source": [
    "#obtain tuples\n",
    "subset = sub_df[['author','content']]\n",
    "tuples = [tuple(x) for x in subset.values]\n",
    "tuples[0]"
   ]
  },
  {
   "cell_type": "code",
   "execution_count": 11,
   "metadata": {},
   "outputs": [
    {
     "ename": "OSError",
     "evalue": "[E050] Can't find model 'es_core_news_sm'. It doesn't seem to be a Python package or a valid path to a data directory.",
     "output_type": "error",
     "traceback": [
      "\u001b[0;31m---------------------------------------------------------------------------\u001b[0m",
      "\u001b[0;31mOSError\u001b[0m                                   Traceback (most recent call last)",
      "\u001b[0;32m/var/folders/q6/9w1dysg10bnbvq_ggcw1lsqh0000gn/T/ipykernel_3327/3793024211.py\u001b[0m in \u001b[0;36m<module>\u001b[0;34m\u001b[0m\n\u001b[1;32m      1\u001b[0m \u001b[0;32mimport\u001b[0m \u001b[0mspacy\u001b[0m\u001b[0;34m\u001b[0m\u001b[0;34m\u001b[0m\u001b[0m\n\u001b[0;32m----> 2\u001b[0;31m \u001b[0mspacy\u001b[0m\u001b[0;34m.\u001b[0m\u001b[0mload\u001b[0m\u001b[0;34m(\u001b[0m\u001b[0;34m'es_core_news_sm'\u001b[0m\u001b[0;34m)\u001b[0m\u001b[0;34m\u001b[0m\u001b[0;34m\u001b[0m\u001b[0m\n\u001b[0m\u001b[1;32m      3\u001b[0m \u001b[0mtokenizer\u001b[0m \u001b[0;34m=\u001b[0m \u001b[0mtorchtext\u001b[0m\u001b[0;34m.\u001b[0m\u001b[0mdata\u001b[0m\u001b[0;34m.\u001b[0m\u001b[0mutils\u001b[0m\u001b[0;34m.\u001b[0m\u001b[0mget_tokenizer\u001b[0m\u001b[0;34m(\u001b[0m\u001b[0;34m'spacy'\u001b[0m\u001b[0;34m,\u001b[0m\u001b[0mlanguage\u001b[0m\u001b[0;34m=\u001b[0m\u001b[0;34m'es'\u001b[0m\u001b[0;34m)\u001b[0m\u001b[0;34m\u001b[0m\u001b[0;34m\u001b[0m\u001b[0m\n",
      "\u001b[0;32m/opt/anaconda3/envs/first_pytorch/lib/python3.7/site-packages/spacy/__init__.py\u001b[0m in \u001b[0;36mload\u001b[0;34m(name, vocab, disable, enable, exclude, config)\u001b[0m\n\u001b[1;32m     58\u001b[0m         \u001b[0menable\u001b[0m\u001b[0;34m=\u001b[0m\u001b[0menable\u001b[0m\u001b[0;34m,\u001b[0m\u001b[0;34m\u001b[0m\u001b[0;34m\u001b[0m\u001b[0m\n\u001b[1;32m     59\u001b[0m         \u001b[0mexclude\u001b[0m\u001b[0;34m=\u001b[0m\u001b[0mexclude\u001b[0m\u001b[0;34m,\u001b[0m\u001b[0;34m\u001b[0m\u001b[0;34m\u001b[0m\u001b[0m\n\u001b[0;32m---> 60\u001b[0;31m         \u001b[0mconfig\u001b[0m\u001b[0;34m=\u001b[0m\u001b[0mconfig\u001b[0m\u001b[0;34m,\u001b[0m\u001b[0;34m\u001b[0m\u001b[0;34m\u001b[0m\u001b[0m\n\u001b[0m\u001b[1;32m     61\u001b[0m     )\n\u001b[1;32m     62\u001b[0m \u001b[0;34m\u001b[0m\u001b[0m\n",
      "\u001b[0;32m/opt/anaconda3/envs/first_pytorch/lib/python3.7/site-packages/spacy/util.py\u001b[0m in \u001b[0;36mload_model\u001b[0;34m(name, vocab, disable, enable, exclude, config)\u001b[0m\n\u001b[1;32m    434\u001b[0m     \u001b[0;32mif\u001b[0m \u001b[0mname\u001b[0m \u001b[0;32min\u001b[0m \u001b[0mOLD_MODEL_SHORTCUTS\u001b[0m\u001b[0;34m:\u001b[0m\u001b[0;34m\u001b[0m\u001b[0;34m\u001b[0m\u001b[0m\n\u001b[1;32m    435\u001b[0m         \u001b[0;32mraise\u001b[0m \u001b[0mIOError\u001b[0m\u001b[0;34m(\u001b[0m\u001b[0mErrors\u001b[0m\u001b[0;34m.\u001b[0m\u001b[0mE941\u001b[0m\u001b[0;34m.\u001b[0m\u001b[0mformat\u001b[0m\u001b[0;34m(\u001b[0m\u001b[0mname\u001b[0m\u001b[0;34m=\u001b[0m\u001b[0mname\u001b[0m\u001b[0;34m,\u001b[0m \u001b[0mfull\u001b[0m\u001b[0;34m=\u001b[0m\u001b[0mOLD_MODEL_SHORTCUTS\u001b[0m\u001b[0;34m[\u001b[0m\u001b[0mname\u001b[0m\u001b[0;34m]\u001b[0m\u001b[0;34m)\u001b[0m\u001b[0;34m)\u001b[0m  \u001b[0;31m# type: ignore[index]\u001b[0m\u001b[0;34m\u001b[0m\u001b[0;34m\u001b[0m\u001b[0m\n\u001b[0;32m--> 436\u001b[0;31m     \u001b[0;32mraise\u001b[0m \u001b[0mIOError\u001b[0m\u001b[0;34m(\u001b[0m\u001b[0mErrors\u001b[0m\u001b[0;34m.\u001b[0m\u001b[0mE050\u001b[0m\u001b[0;34m.\u001b[0m\u001b[0mformat\u001b[0m\u001b[0;34m(\u001b[0m\u001b[0mname\u001b[0m\u001b[0;34m=\u001b[0m\u001b[0mname\u001b[0m\u001b[0;34m)\u001b[0m\u001b[0;34m)\u001b[0m\u001b[0;34m\u001b[0m\u001b[0;34m\u001b[0m\u001b[0m\n\u001b[0m\u001b[1;32m    437\u001b[0m \u001b[0;34m\u001b[0m\u001b[0m\n\u001b[1;32m    438\u001b[0m \u001b[0;34m\u001b[0m\u001b[0m\n",
      "\u001b[0;31mOSError\u001b[0m: [E050] Can't find model 'es_core_news_sm'. It doesn't seem to be a Python package or a valid path to a data directory."
     ]
    }
   ],
   "source": [
    "import spacy\n",
    "spacy.load('es_core_news_sm')\n",
    "tokenizer = torchtext.data.utils.get_tokenizer('spacy',language='es')"
   ]
  }
 ],
 "metadata": {
  "kernelspec": {
   "display_name": "Python 3 (ipykernel)",
   "language": "python",
   "name": "python3"
  },
  "language_info": {
   "codemirror_mode": {
    "name": "ipython",
    "version": 3
   },
   "file_extension": ".py",
   "mimetype": "text/x-python",
   "name": "python",
   "nbconvert_exporter": "python",
   "pygments_lexer": "ipython3",
   "version": "3.7.13"
  }
 },
 "nbformat": 4,
 "nbformat_minor": 4
}
