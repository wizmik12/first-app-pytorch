{
 "cells": [
  {
   "cell_type": "markdown",
   "metadata": {
    "id": "8zs6htlLKXm6"
   },
   "source": [
    "# Notebook #0: Introducción a Pytorch\n",
    "> Al final de este notebook sabrás...\n",
    "- El papel de Pytorch en el desarrollo de proyectos de Machine Learning con Python.\n",
    "- ¿Cuándo usar Pytorch?\n",
    "- ¿En qué etapas de un proyecto de ML se utiliza Pytorch?\n",
    "- Funcionamiento y nociones básicas de Pytorch\n",
    "\n",
    "## Machine Learning con Python\n",
    "\n",
    "En un proyecto de Machine Learning podemos diferenciar varias etapas, tal y como se aprecia en la imagen siguiente. \n",
    "> ..\n",
    "\n",
    "Cómo podemos intuir, el uso de Pytorch cobra protagonismo en las etapas tal tal y tal. \n",
    "\n",
    "## Librería Pytorch\n",
    "\n",
    "Pytorch es una librería en Python que nos permite trabajar con modelos de deep learning de forma sencilla y flexible. Tal y como es el lenguaje de Python, se podría decir que Pytorch respeta su filosofía. Podemos ver esta librería como Numpy pero con una aceleración en GPU. Además sus grafos son dinámicos cambiando sobre la marcha en contraste con Tensorflow cuyos grafos son estáticos.\n",
    "Su principal motivación es proporcionar una estrategia fiable y de caldiad que permita desplegar modelos en producción. Sin embargo, hoy en día se ha consolidado como una herramienta con la que interaccionar a través de Python para la construcción, entrenamiento y aplicación de modelos de computación basados en técnicas de Machine Learning.\n",
    "\n",
    "\n",
    "En primer lugar, Pytorch se caracteriza por proporcionar dos funcionalidades básicas:\n",
    "\n",
    "\n",
    "1.   La utilización de vectores multidimensionales, a los que en Pytorch se les denomina tensores (*tensors*). \n",
    "2.   \n",
    "\n",
    "> Aquí quizá insertar una imagen comparando como es la vida de una app de machine learning y cómo entran los tensores.\n",
    "\n",
    "De esta forma, los datos de entrada se transforman en un objeto de tipo Tensor,normalmente un conjunto de ellos, a partir de los que podremos trabajar con los métodos de la librería. \n",
    "\n",
    "## Pytorch vs Tensorflow\n",
    "\n",
    "# Ejercicios\n",
    "\n",
    "> Abrir un notebook e instalar Pytorch.\n",
    "\n",
    "> Consultar la versión de pytorch descargada. \n",
    "\n"
   ]
  },
  {
   "cell_type": "code",
   "execution_count": null,
   "metadata": {},
   "outputs": [],
   "source": []
  }
 ],
 "metadata": {
  "colab": {
   "name": "0.Introducción a Pytorch.ipynb",
   "provenance": []
  },
  "kernelspec": {
   "display_name": "Python 3 (ipykernel)",
   "language": "python",
   "name": "python3"
  },
  "language_info": {
   "codemirror_mode": {
    "name": "ipython",
    "version": 3
   },
   "file_extension": ".py",
   "mimetype": "text/x-python",
   "name": "python",
   "nbconvert_exporter": "python",
   "pygments_lexer": "ipython3",
   "version": "3.7.13"
  }
 },
 "nbformat": 4,
 "nbformat_minor": 1
}
