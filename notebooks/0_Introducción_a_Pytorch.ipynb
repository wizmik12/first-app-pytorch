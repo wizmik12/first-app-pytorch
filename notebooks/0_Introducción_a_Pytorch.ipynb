{
  "nbformat": 4,
  "nbformat_minor": 0,
  "metadata": {
    "colab": {
      "name": "0.Introducción a Pytorch.ipynb",
      "provenance": []
    },
    "kernelspec": {
      "name": "python3",
      "display_name": "Python 3"
    },
    "language_info": {
      "name": "python"
    }
  },
  "cells": [
    {
      "cell_type": "markdown",
      "source": [
        "# Introducción a Pytorch\n",
        "> Al final de este notebook sabrás...\n",
        "- El papel de Pytorch en el desarrollo de proyectos de Machine Learning con Python.\n",
        "- ¿Cuándo usar Pytorch?\n",
        "- ¿En qué etapas de un proyecto de ML se utiliza Pytorch?\n",
        "- Funcionamiento y nociones básicas de Pytorch\n",
        "\n",
        "## Machine Learning con Python\n",
        "\n",
        "En un proyecto de Machine Learning podemos diferenciar varias etapas, tal y como se aprecia en la imagen siguiente. \n",
        "> ..\n",
        "\n",
        "Cómo podemos intuir, el uso de Pytorch cobra protagonismo en las etapas tal tal y tal. \n",
        "\n",
        "## Librería Pytorch\n",
        "\n",
        "Su principal motivación es proporcionar una estrategia fiable y de caldiad que permita desplegar modelos en producción. Sin embargo, hoy en día se ha consolidado como una herramienta con la que interaccionar a través de Python para la construcción, entrenamiento y aplicación de modelos de computación basados en técnicas de Machine Learning.\n",
        "\n",
        "\n",
        "En primer lugar, Pytorch se caracteriza por proporcionar dos funcionalidades básicas:\n",
        "\n",
        "\n",
        "1.   La utilización de vectores multidimensionales, a los que en Pytorch se les denomina tensores (*tensors*). \n",
        "2.   \n",
        "\n",
        "> Aquí quizá insertar una imagen comparando como es la vida de una app de machine learning y cómo entran los tensores.\n",
        "\n",
        "De esta forma, los datos de entrada se transforman en un objeto de tipo Tensor,normalmente un conjunto de ellos, a partir de los que podremos trabajar con los métodos de la librería. \n",
        "\n",
        "# Ejercicios\n",
        "\n",
        "> Abrir un notebook e instalar Pytorch.\n",
        "\n",
        "> Consultar la versión de pytorch descargada. \n",
        "\n"
      ],
      "metadata": {
        "id": "8zs6htlLKXm6"
      }
    }
  ]
}